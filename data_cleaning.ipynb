{
 "cells": [
  {
   "cell_type": "code",
   "execution_count": 1,
   "metadata": {},
   "outputs": [],
   "source": [
    "import pandas as pd\n",
    "import numpy as np\n",
    "import matplotlib.pyplot as plt\n",
    "import seaborn as sns"
   ]
  },
  {
   "cell_type": "code",
   "execution_count": 2,
   "metadata": {},
   "outputs": [],
   "source": [
    "df = pd.read_csv('BA_reviews.csv')"
   ]
  },
  {
   "cell_type": "code",
   "execution_count": 4,
   "metadata": {},
   "outputs": [
    {
     "data": {
      "text/html": [
       "<div>\n",
       "<style scoped>\n",
       "    .dataframe tbody tr th:only-of-type {\n",
       "        vertical-align: middle;\n",
       "    }\n",
       "\n",
       "    .dataframe tbody tr th {\n",
       "        vertical-align: top;\n",
       "    }\n",
       "\n",
       "    .dataframe thead th {\n",
       "        text-align: right;\n",
       "    }\n",
       "</style>\n",
       "<table border=\"1\" class=\"dataframe\">\n",
       "  <thead>\n",
       "    <tr style=\"text-align: right;\">\n",
       "      <th></th>\n",
       "      <th>Unnamed: 0</th>\n",
       "      <th>reviews</th>\n",
       "      <th>stars</th>\n",
       "      <th>date</th>\n",
       "      <th>country</th>\n",
       "    </tr>\n",
       "  </thead>\n",
       "  <tbody>\n",
       "    <tr>\n",
       "      <th>0</th>\n",
       "      <td>0</td>\n",
       "      <td>Not Verified | Flown with BA four times. As an...</td>\n",
       "      <td>5.0</td>\n",
       "      <td>25th August 2024</td>\n",
       "      <td>United Kingdom</td>\n",
       "    </tr>\n",
       "    <tr>\n",
       "      <th>1</th>\n",
       "      <td>1</td>\n",
       "      <td>✅ Trip Verified |   You may never see your ref...</td>\n",
       "      <td>10.0</td>\n",
       "      <td>22nd August 2024</td>\n",
       "      <td>United States</td>\n",
       "    </tr>\n",
       "    <tr>\n",
       "      <th>2</th>\n",
       "      <td>2</td>\n",
       "      <td>Not Verified | Cargo service: that's how I fel...</td>\n",
       "      <td>1.0</td>\n",
       "      <td>21st August 2024</td>\n",
       "      <td>United States</td>\n",
       "    </tr>\n",
       "    <tr>\n",
       "      <th>3</th>\n",
       "      <td>3</td>\n",
       "      <td>✅ Trip Verified | Inefficient and slow airport...</td>\n",
       "      <td>5.0</td>\n",
       "      <td>21st August 2024</td>\n",
       "      <td>United Kingdom</td>\n",
       "    </tr>\n",
       "    <tr>\n",
       "      <th>4</th>\n",
       "      <td>4</td>\n",
       "      <td>Not Verified |  The customer service is one of...</td>\n",
       "      <td>4.0</td>\n",
       "      <td>18th August 2024</td>\n",
       "      <td>United States</td>\n",
       "    </tr>\n",
       "  </tbody>\n",
       "</table>\n",
       "</div>"
      ],
      "text/plain": [
       "   Unnamed: 0                                            reviews  stars  \\\n",
       "0           0  Not Verified | Flown with BA four times. As an...    5.0   \n",
       "1           1  ✅ Trip Verified |   You may never see your ref...   10.0   \n",
       "2           2  Not Verified | Cargo service: that's how I fel...    1.0   \n",
       "3           3  ✅ Trip Verified | Inefficient and slow airport...    5.0   \n",
       "4           4  Not Verified |  The customer service is one of...    4.0   \n",
       "\n",
       "               date         country  \n",
       "0  25th August 2024  United Kingdom  \n",
       "1  22nd August 2024   United States  \n",
       "2  21st August 2024   United States  \n",
       "3  21st August 2024  United Kingdom  \n",
       "4  18th August 2024   United States  "
      ]
     },
     "execution_count": 4,
     "metadata": {},
     "output_type": "execute_result"
    }
   ],
   "source": [
    "df.head()"
   ]
  },
  {
   "cell_type": "code",
   "execution_count": 5,
   "metadata": {},
   "outputs": [],
   "source": [
    "df=df.drop('Unnamed: 0', axis=1)"
   ]
  },
  {
   "cell_type": "code",
   "execution_count": 6,
   "metadata": {},
   "outputs": [
    {
     "data": {
      "text/html": [
       "<div>\n",
       "<style scoped>\n",
       "    .dataframe tbody tr th:only-of-type {\n",
       "        vertical-align: middle;\n",
       "    }\n",
       "\n",
       "    .dataframe tbody tr th {\n",
       "        vertical-align: top;\n",
       "    }\n",
       "\n",
       "    .dataframe thead th {\n",
       "        text-align: right;\n",
       "    }\n",
       "</style>\n",
       "<table border=\"1\" class=\"dataframe\">\n",
       "  <thead>\n",
       "    <tr style=\"text-align: right;\">\n",
       "      <th></th>\n",
       "      <th>reviews</th>\n",
       "      <th>stars</th>\n",
       "      <th>date</th>\n",
       "      <th>country</th>\n",
       "    </tr>\n",
       "  </thead>\n",
       "  <tbody>\n",
       "    <tr>\n",
       "      <th>0</th>\n",
       "      <td>Not Verified | Flown with BA four times. As an...</td>\n",
       "      <td>5.0</td>\n",
       "      <td>25th August 2024</td>\n",
       "      <td>United Kingdom</td>\n",
       "    </tr>\n",
       "    <tr>\n",
       "      <th>1</th>\n",
       "      <td>✅ Trip Verified |   You may never see your ref...</td>\n",
       "      <td>10.0</td>\n",
       "      <td>22nd August 2024</td>\n",
       "      <td>United States</td>\n",
       "    </tr>\n",
       "    <tr>\n",
       "      <th>2</th>\n",
       "      <td>Not Verified | Cargo service: that's how I fel...</td>\n",
       "      <td>1.0</td>\n",
       "      <td>21st August 2024</td>\n",
       "      <td>United States</td>\n",
       "    </tr>\n",
       "    <tr>\n",
       "      <th>3</th>\n",
       "      <td>✅ Trip Verified | Inefficient and slow airport...</td>\n",
       "      <td>5.0</td>\n",
       "      <td>21st August 2024</td>\n",
       "      <td>United Kingdom</td>\n",
       "    </tr>\n",
       "    <tr>\n",
       "      <th>4</th>\n",
       "      <td>Not Verified |  The customer service is one of...</td>\n",
       "      <td>4.0</td>\n",
       "      <td>18th August 2024</td>\n",
       "      <td>United States</td>\n",
       "    </tr>\n",
       "    <tr>\n",
       "      <th>...</th>\n",
       "      <td>...</td>\n",
       "      <td>...</td>\n",
       "      <td>...</td>\n",
       "      <td>...</td>\n",
       "    </tr>\n",
       "    <tr>\n",
       "      <th>3495</th>\n",
       "      <td>Heathrow to Bergen Business no priority boardi...</td>\n",
       "      <td>4.0</td>\n",
       "      <td>22nd October 2014</td>\n",
       "      <td>United Kingdom</td>\n",
       "    </tr>\n",
       "    <tr>\n",
       "      <th>3496</th>\n",
       "      <td>BA176 JFK to Heathrow 13 October 2014. The out...</td>\n",
       "      <td>8.0</td>\n",
       "      <td>22nd October 2014</td>\n",
       "      <td>United Kingdom</td>\n",
       "    </tr>\n",
       "    <tr>\n",
       "      <th>3497</th>\n",
       "      <td>Very impressed with Premium Economy on BA Sydn...</td>\n",
       "      <td>3.0</td>\n",
       "      <td>22nd October 2014</td>\n",
       "      <td>Australia</td>\n",
       "    </tr>\n",
       "    <tr>\n",
       "      <th>3498</th>\n",
       "      <td>A319 Barcelona to Heathrow Business no announc...</td>\n",
       "      <td>7.0</td>\n",
       "      <td>22nd October 2014</td>\n",
       "      <td>United Kingdom</td>\n",
       "    </tr>\n",
       "    <tr>\n",
       "      <th>3499</th>\n",
       "      <td>BA213 Heathrow to Boston 29/09/14 B747. There ...</td>\n",
       "      <td>1.0</td>\n",
       "      <td>22nd October 2014</td>\n",
       "      <td>United Kingdom</td>\n",
       "    </tr>\n",
       "  </tbody>\n",
       "</table>\n",
       "<p>3500 rows × 4 columns</p>\n",
       "</div>"
      ],
      "text/plain": [
       "                                                reviews  stars  \\\n",
       "0     Not Verified | Flown with BA four times. As an...    5.0   \n",
       "1     ✅ Trip Verified |   You may never see your ref...   10.0   \n",
       "2     Not Verified | Cargo service: that's how I fel...    1.0   \n",
       "3     ✅ Trip Verified | Inefficient and slow airport...    5.0   \n",
       "4     Not Verified |  The customer service is one of...    4.0   \n",
       "...                                                 ...    ...   \n",
       "3495  Heathrow to Bergen Business no priority boardi...    4.0   \n",
       "3496  BA176 JFK to Heathrow 13 October 2014. The out...    8.0   \n",
       "3497  Very impressed with Premium Economy on BA Sydn...    3.0   \n",
       "3498  A319 Barcelona to Heathrow Business no announc...    7.0   \n",
       "3499  BA213 Heathrow to Boston 29/09/14 B747. There ...    1.0   \n",
       "\n",
       "                   date         country  \n",
       "0      25th August 2024  United Kingdom  \n",
       "1      22nd August 2024   United States  \n",
       "2      21st August 2024   United States  \n",
       "3      21st August 2024  United Kingdom  \n",
       "4      18th August 2024   United States  \n",
       "...                 ...             ...  \n",
       "3495  22nd October 2014  United Kingdom  \n",
       "3496  22nd October 2014  United Kingdom  \n",
       "3497  22nd October 2014       Australia  \n",
       "3498  22nd October 2014  United Kingdom  \n",
       "3499  22nd October 2014  United Kingdom  \n",
       "\n",
       "[3500 rows x 4 columns]"
      ]
     },
     "execution_count": 6,
     "metadata": {},
     "output_type": "execute_result"
    }
   ],
   "source": [
    "df"
   ]
  },
  {
   "cell_type": "code",
   "execution_count": 7,
   "metadata": {},
   "outputs": [],
   "source": [
    "df['verified'] = df.reviews.str.contains(\"Trip Verified\")"
   ]
  },
  {
   "cell_type": "code",
   "execution_count": 8,
   "metadata": {},
   "outputs": [
    {
     "data": {
      "text/plain": [
       "0       False\n",
       "1        True\n",
       "2       False\n",
       "3        True\n",
       "4       False\n",
       "        ...  \n",
       "3495    False\n",
       "3496    False\n",
       "3497    False\n",
       "3498    False\n",
       "3499    False\n",
       "Name: verified, Length: 3500, dtype: bool"
      ]
     },
     "execution_count": 8,
     "metadata": {},
     "output_type": "execute_result"
    }
   ],
   "source": [
    "df['verified']"
   ]
  },
  {
   "cell_type": "code",
   "execution_count": 20,
   "metadata": {},
   "outputs": [
    {
     "name": "stderr",
     "output_type": "stream",
     "text": [
      "[nltk_data] Downloading package stopwords to\n",
      "[nltk_data]     C:\\Users\\madna\\AppData\\Roaming\\nltk_data...\n",
      "[nltk_data]   Package stopwords is already up-to-date!\n",
      "[nltk_data] Downloading package wordnet to\n",
      "[nltk_data]     C:\\Users\\madna\\AppData\\Roaming\\nltk_data...\n",
      "[nltk_data] Downloading package omw-1.4 to\n",
      "[nltk_data]     C:\\Users\\madna\\AppData\\Roaming\\nltk_data...\n"
     ]
    }
   ],
   "source": [
    "import re\n",
    "from nltk.stem import WordNetLemmatizer\n",
    "from nltk.corpus import stopwords\n",
    "import nltk\n",
    "\n",
    "# Download necessary NLTK resources\n",
    "nltk.download('stopwords')\n",
    "nltk.download('wordnet')\n",
    "nltk.download('omw-1.4')  # Optional but recommended for WordNet Lemmatizer\n",
    "\n",
    "# Initialize the lemmatizer\n",
    "lemma = WordNetLemmatizer()\n",
    "\n",
    "# Clean the review data by removing the \"✅ Trip Verified |\" prefix\n",
    "reviews_data = df['reviews'].str.replace(\"✅ Trip Verified |\", \"\", regex=False)\n",
    "\n",
    "# Create an empty list to collect cleaned data corpus\n",
    "corpus = []\n",
    "\n",
    "# Loop through each review, remove punctuations, convert to lowercase, lemmatize, and remove stopwords\n",
    "for rev in reviews_data:\n",
    "    rev = re.sub('[^a-zA-Z]', ' ', rev)  # Use re.sub to replace non-alphabetical characters with a space\n",
    "    rev = rev.lower()\n",
    "    rev = rev.split()\n",
    "    rev = [lemma.lemmatize(word) for word in rev if word not in set(stopwords.words(\"english\"))]\n",
    "    rev = \" \".join(rev)\n",
    "    corpus.append(rev)\n"
   ]
  },
  {
   "cell_type": "code",
   "execution_count": 21,
   "metadata": {},
   "outputs": [],
   "source": [
    "df['corpus'] = corpus"
   ]
  },
  {
   "cell_type": "code",
   "execution_count": 22,
   "metadata": {},
   "outputs": [
    {
     "data": {
      "text/html": [
       "<div>\n",
       "<style scoped>\n",
       "    .dataframe tbody tr th:only-of-type {\n",
       "        vertical-align: middle;\n",
       "    }\n",
       "\n",
       "    .dataframe tbody tr th {\n",
       "        vertical-align: top;\n",
       "    }\n",
       "\n",
       "    .dataframe thead th {\n",
       "        text-align: right;\n",
       "    }\n",
       "</style>\n",
       "<table border=\"1\" class=\"dataframe\">\n",
       "  <thead>\n",
       "    <tr style=\"text-align: right;\">\n",
       "      <th></th>\n",
       "      <th>reviews</th>\n",
       "      <th>stars</th>\n",
       "      <th>date</th>\n",
       "      <th>country</th>\n",
       "      <th>verified</th>\n",
       "      <th>corpus</th>\n",
       "    </tr>\n",
       "  </thead>\n",
       "  <tbody>\n",
       "    <tr>\n",
       "      <th>0</th>\n",
       "      <td>Not Verified | Flown with BA four times. As an...</td>\n",
       "      <td>5.0</td>\n",
       "      <td>25th August 2024</td>\n",
       "      <td>United Kingdom</td>\n",
       "      <td>False</td>\n",
       "      <td>verified flown ba four time anxious traveller ...</td>\n",
       "    </tr>\n",
       "    <tr>\n",
       "      <th>1</th>\n",
       "      <td>✅ Trip Verified |   You may never see your ref...</td>\n",
       "      <td>10.0</td>\n",
       "      <td>22nd August 2024</td>\n",
       "      <td>United States</td>\n",
       "      <td>True</td>\n",
       "      <td>may never see refund cancelled return flight s...</td>\n",
       "    </tr>\n",
       "    <tr>\n",
       "      <th>2</th>\n",
       "      <td>Not Verified | Cargo service: that's how I fel...</td>\n",
       "      <td>1.0</td>\n",
       "      <td>21st August 2024</td>\n",
       "      <td>United States</td>\n",
       "      <td>False</td>\n",
       "      <td>verified cargo service felt upper deck suppose...</td>\n",
       "    </tr>\n",
       "    <tr>\n",
       "      <th>3</th>\n",
       "      <td>✅ Trip Verified | Inefficient and slow airport...</td>\n",
       "      <td>5.0</td>\n",
       "      <td>21st August 2024</td>\n",
       "      <td>United Kingdom</td>\n",
       "      <td>True</td>\n",
       "      <td>inefficient slow airport operation resting lau...</td>\n",
       "    </tr>\n",
       "    <tr>\n",
       "      <th>4</th>\n",
       "      <td>Not Verified |  The customer service is one of...</td>\n",
       "      <td>4.0</td>\n",
       "      <td>18th August 2024</td>\n",
       "      <td>United States</td>\n",
       "      <td>False</td>\n",
       "      <td>verified customer service one worst ever seen ...</td>\n",
       "    </tr>\n",
       "  </tbody>\n",
       "</table>\n",
       "</div>"
      ],
      "text/plain": [
       "                                             reviews  stars              date  \\\n",
       "0  Not Verified | Flown with BA four times. As an...    5.0  25th August 2024   \n",
       "1  ✅ Trip Verified |   You may never see your ref...   10.0  22nd August 2024   \n",
       "2  Not Verified | Cargo service: that's how I fel...    1.0  21st August 2024   \n",
       "3  ✅ Trip Verified | Inefficient and slow airport...    5.0  21st August 2024   \n",
       "4  Not Verified |  The customer service is one of...    4.0  18th August 2024   \n",
       "\n",
       "          country  verified                                             corpus  \n",
       "0  United Kingdom     False  verified flown ba four time anxious traveller ...  \n",
       "1   United States      True  may never see refund cancelled return flight s...  \n",
       "2   United States     False  verified cargo service felt upper deck suppose...  \n",
       "3  United Kingdom      True  inefficient slow airport operation resting lau...  \n",
       "4   United States     False  verified customer service one worst ever seen ...  "
      ]
     },
     "execution_count": 22,
     "metadata": {},
     "output_type": "execute_result"
    }
   ],
   "source": [
    "df.head()"
   ]
  },
  {
   "cell_type": "code",
   "execution_count": 23,
   "metadata": {},
   "outputs": [
    {
     "data": {
      "text/plain": [
       "reviews      object\n",
       "stars       float64\n",
       "date         object\n",
       "country      object\n",
       "verified       bool\n",
       "corpus       object\n",
       "dtype: object"
      ]
     },
     "execution_count": 23,
     "metadata": {},
     "output_type": "execute_result"
    }
   ],
   "source": [
    "df.dtypes"
   ]
  },
  {
   "cell_type": "code",
   "execution_count": 26,
   "metadata": {},
   "outputs": [
    {
     "name": "stdout",
     "output_type": "stream",
     "text": [
      "                                             reviews  stars       date  \\\n",
      "0  Not Verified | Flown with BA four times. As an...    5.0 2024-08-25   \n",
      "1  ✅ Trip Verified |   You may never see your ref...   10.0 2024-08-22   \n",
      "2  Not Verified | Cargo service: that's how I fel...    1.0 2024-08-21   \n",
      "3  ✅ Trip Verified | Inefficient and slow airport...    5.0 2024-08-21   \n",
      "4  Not Verified |  The customer service is one of...    4.0 2024-08-18   \n",
      "\n",
      "          country  verified                                             corpus  \n",
      "0  United Kingdom     False  verified flown ba four time anxious traveller ...  \n",
      "1   United States      True  may never see refund cancelled return flight s...  \n",
      "2   United States     False  verified cargo service felt upper deck suppose...  \n",
      "3  United Kingdom      True  inefficient slow airport operation resting lau...  \n",
      "4   United States     False  verified customer service one worst ever seen ...  \n"
     ]
    }
   ],
   "source": [
    "import pandas as pd\n",
    "import re\n",
    "\n",
    "# Function to remove ordinal suffixes from day in date string\n",
    "def remove_suffix(date_str):\n",
    "    return re.sub(r'(\\d+)(st|nd|rd|th)', r'\\1', date_str)\n",
    "\n",
    "# Apply the function to the date column to clean it\n",
    "df['date'] = df['date'].apply(remove_suffix)\n",
    "\n",
    "# Convert the cleaned date strings to datetime objects\n",
    "df['date'] = pd.to_datetime(df['date'], format='%d %B %Y')\n",
    "\n",
    "# Display the DataFrame to verify the conversion\n",
    "print(df.head())\n"
   ]
  },
  {
   "cell_type": "code",
   "execution_count": 27,
   "metadata": {},
   "outputs": [
    {
     "data": {
      "text/plain": [
       "array([ 5., 10.,  1.,  4.,  2.,  8.,  3.,  6.,  9.,  7., nan])"
      ]
     },
     "execution_count": 27,
     "metadata": {},
     "output_type": "execute_result"
    }
   ],
   "source": [
    "df.stars.unique()"
   ]
  },
  {
   "cell_type": "code",
   "execution_count": 28,
   "metadata": {},
   "outputs": [
    {
     "data": {
      "text/html": [
       "<div>\n",
       "<style scoped>\n",
       "    .dataframe tbody tr th:only-of-type {\n",
       "        vertical-align: middle;\n",
       "    }\n",
       "\n",
       "    .dataframe tbody tr th {\n",
       "        vertical-align: top;\n",
       "    }\n",
       "\n",
       "    .dataframe thead th {\n",
       "        text-align: right;\n",
       "    }\n",
       "</style>\n",
       "<table border=\"1\" class=\"dataframe\">\n",
       "  <thead>\n",
       "    <tr style=\"text-align: right;\">\n",
       "      <th></th>\n",
       "      <th>reviews</th>\n",
       "      <th>stars</th>\n",
       "      <th>date</th>\n",
       "      <th>country</th>\n",
       "      <th>verified</th>\n",
       "      <th>corpus</th>\n",
       "    </tr>\n",
       "  </thead>\n",
       "  <tbody>\n",
       "    <tr>\n",
       "      <th>0</th>\n",
       "      <td>Not Verified | Flown with BA four times. As an...</td>\n",
       "      <td>5.0</td>\n",
       "      <td>2024-08-25</td>\n",
       "      <td>United Kingdom</td>\n",
       "      <td>False</td>\n",
       "      <td>verified flown ba four time anxious traveller ...</td>\n",
       "    </tr>\n",
       "    <tr>\n",
       "      <th>1</th>\n",
       "      <td>✅ Trip Verified |   You may never see your ref...</td>\n",
       "      <td>10.0</td>\n",
       "      <td>2024-08-22</td>\n",
       "      <td>United States</td>\n",
       "      <td>True</td>\n",
       "      <td>may never see refund cancelled return flight s...</td>\n",
       "    </tr>\n",
       "    <tr>\n",
       "      <th>2</th>\n",
       "      <td>Not Verified | Cargo service: that's how I fel...</td>\n",
       "      <td>1.0</td>\n",
       "      <td>2024-08-21</td>\n",
       "      <td>United States</td>\n",
       "      <td>False</td>\n",
       "      <td>verified cargo service felt upper deck suppose...</td>\n",
       "    </tr>\n",
       "    <tr>\n",
       "      <th>3</th>\n",
       "      <td>✅ Trip Verified | Inefficient and slow airport...</td>\n",
       "      <td>5.0</td>\n",
       "      <td>2024-08-21</td>\n",
       "      <td>United Kingdom</td>\n",
       "      <td>True</td>\n",
       "      <td>inefficient slow airport operation resting lau...</td>\n",
       "    </tr>\n",
       "    <tr>\n",
       "      <th>4</th>\n",
       "      <td>Not Verified |  The customer service is one of...</td>\n",
       "      <td>4.0</td>\n",
       "      <td>2024-08-18</td>\n",
       "      <td>United States</td>\n",
       "      <td>False</td>\n",
       "      <td>verified customer service one worst ever seen ...</td>\n",
       "    </tr>\n",
       "    <tr>\n",
       "      <th>...</th>\n",
       "      <td>...</td>\n",
       "      <td>...</td>\n",
       "      <td>...</td>\n",
       "      <td>...</td>\n",
       "      <td>...</td>\n",
       "      <td>...</td>\n",
       "    </tr>\n",
       "    <tr>\n",
       "      <th>3495</th>\n",
       "      <td>Heathrow to Bergen Business no priority boardi...</td>\n",
       "      <td>4.0</td>\n",
       "      <td>2014-10-22</td>\n",
       "      <td>United Kingdom</td>\n",
       "      <td>False</td>\n",
       "      <td>heathrow bergen business priority boarding bus...</td>\n",
       "    </tr>\n",
       "    <tr>\n",
       "      <th>3496</th>\n",
       "      <td>BA176 JFK to Heathrow 13 October 2014. The out...</td>\n",
       "      <td>8.0</td>\n",
       "      <td>2014-10-22</td>\n",
       "      <td>United Kingdom</td>\n",
       "      <td>False</td>\n",
       "      <td>ba jfk heathrow october outward flight awful r...</td>\n",
       "    </tr>\n",
       "    <tr>\n",
       "      <th>3497</th>\n",
       "      <td>Very impressed with Premium Economy on BA Sydn...</td>\n",
       "      <td>3.0</td>\n",
       "      <td>2014-10-22</td>\n",
       "      <td>Australia</td>\n",
       "      <td>False</td>\n",
       "      <td>impressed premium economy ba sydney heathrow r...</td>\n",
       "    </tr>\n",
       "    <tr>\n",
       "      <th>3498</th>\n",
       "      <td>A319 Barcelona to Heathrow Business no announc...</td>\n",
       "      <td>7.0</td>\n",
       "      <td>2014-10-22</td>\n",
       "      <td>United Kingdom</td>\n",
       "      <td>False</td>\n",
       "      <td>barcelona heathrow business announcement board...</td>\n",
       "    </tr>\n",
       "    <tr>\n",
       "      <th>3499</th>\n",
       "      <td>BA213 Heathrow to Boston 29/09/14 B747. There ...</td>\n",
       "      <td>1.0</td>\n",
       "      <td>2014-10-22</td>\n",
       "      <td>United Kingdom</td>\n",
       "      <td>False</td>\n",
       "      <td>ba heathrow boston b nothing commend flight be...</td>\n",
       "    </tr>\n",
       "  </tbody>\n",
       "</table>\n",
       "<p>3496 rows × 6 columns</p>\n",
       "</div>"
      ],
      "text/plain": [
       "                                                reviews  stars       date  \\\n",
       "0     Not Verified | Flown with BA four times. As an...    5.0 2024-08-25   \n",
       "1     ✅ Trip Verified |   You may never see your ref...   10.0 2024-08-22   \n",
       "2     Not Verified | Cargo service: that's how I fel...    1.0 2024-08-21   \n",
       "3     ✅ Trip Verified | Inefficient and slow airport...    5.0 2024-08-21   \n",
       "4     Not Verified |  The customer service is one of...    4.0 2024-08-18   \n",
       "...                                                 ...    ...        ...   \n",
       "3495  Heathrow to Bergen Business no priority boardi...    4.0 2014-10-22   \n",
       "3496  BA176 JFK to Heathrow 13 October 2014. The out...    8.0 2014-10-22   \n",
       "3497  Very impressed with Premium Economy on BA Sydn...    3.0 2014-10-22   \n",
       "3498  A319 Barcelona to Heathrow Business no announc...    7.0 2014-10-22   \n",
       "3499  BA213 Heathrow to Boston 29/09/14 B747. There ...    1.0 2014-10-22   \n",
       "\n",
       "             country  verified  \\\n",
       "0     United Kingdom     False   \n",
       "1      United States      True   \n",
       "2      United States     False   \n",
       "3     United Kingdom      True   \n",
       "4      United States     False   \n",
       "...              ...       ...   \n",
       "3495  United Kingdom     False   \n",
       "3496  United Kingdom     False   \n",
       "3497       Australia     False   \n",
       "3498  United Kingdom     False   \n",
       "3499  United Kingdom     False   \n",
       "\n",
       "                                                 corpus  \n",
       "0     verified flown ba four time anxious traveller ...  \n",
       "1     may never see refund cancelled return flight s...  \n",
       "2     verified cargo service felt upper deck suppose...  \n",
       "3     inefficient slow airport operation resting lau...  \n",
       "4     verified customer service one worst ever seen ...  \n",
       "...                                                 ...  \n",
       "3495  heathrow bergen business priority boarding bus...  \n",
       "3496  ba jfk heathrow october outward flight awful r...  \n",
       "3497  impressed premium economy ba sydney heathrow r...  \n",
       "3498  barcelona heathrow business announcement board...  \n",
       "3499  ba heathrow boston b nothing commend flight be...  \n",
       "\n",
       "[3496 rows x 6 columns]"
      ]
     },
     "execution_count": 28,
     "metadata": {},
     "output_type": "execute_result"
    }
   ],
   "source": [
    "df.dropna(axis=0)"
   ]
  },
  {
   "cell_type": "code",
   "execution_count": 29,
   "metadata": {},
   "outputs": [
    {
     "data": {
      "text/plain": [
       "array([ 5., 10.,  1.,  4.,  2.,  8.,  3.,  6.,  9.,  7., nan])"
      ]
     },
     "execution_count": 29,
     "metadata": {},
     "output_type": "execute_result"
    }
   ],
   "source": [
    "df.stars.unique()"
   ]
  },
  {
   "cell_type": "code",
   "execution_count": 30,
   "metadata": {},
   "outputs": [
    {
     "data": {
      "text/plain": [
       "stars\n",
       "1.0     863\n",
       "2.0     406\n",
       "3.0     402\n",
       "8.0     339\n",
       "10.0    284\n",
       "9.0     273\n",
       "7.0     273\n",
       "5.0     249\n",
       "4.0     235\n",
       "6.0     173\n",
       "Name: count, dtype: int64"
      ]
     },
     "execution_count": 30,
     "metadata": {},
     "output_type": "execute_result"
    }
   ],
   "source": [
    "df.stars.value_counts()"
   ]
  },
  {
   "cell_type": "code",
   "execution_count": 31,
   "metadata": {},
   "outputs": [
    {
     "data": {
      "text/plain": [
       "reviews  stars  date   country  verified  corpus\n",
       "False    False  False  False    False     False     3496\n",
       "         True   False  False    False     False        3\n",
       "         False  False  True     False     False        1\n",
       "Name: count, dtype: int64"
      ]
     },
     "execution_count": 31,
     "metadata": {},
     "output_type": "execute_result"
    }
   ],
   "source": [
    "df.isnull().value_counts()"
   ]
  },
  {
   "cell_type": "code",
   "execution_count": 32,
   "metadata": {},
   "outputs": [
    {
     "data": {
      "text/plain": [
       "country\n",
       "False    3499\n",
       "True        1\n",
       "Name: count, dtype: int64"
      ]
     },
     "execution_count": 32,
     "metadata": {},
     "output_type": "execute_result"
    }
   ],
   "source": [
    "df.country.isnull().value_counts()"
   ]
  },
  {
   "cell_type": "code",
   "execution_count": 33,
   "metadata": {},
   "outputs": [
    {
     "data": {
      "text/plain": [
       "reviews\n",
       "False    3500\n",
       "Name: count, dtype: int64"
      ]
     },
     "execution_count": 33,
     "metadata": {},
     "output_type": "execute_result"
    }
   ],
   "source": [
    "df.reviews.isnull().value_counts()"
   ]
  },
  {
   "cell_type": "code",
   "execution_count": 34,
   "metadata": {},
   "outputs": [
    {
     "data": {
      "text/plain": [
       "date\n",
       "False    3500\n",
       "Name: count, dtype: int64"
      ]
     },
     "execution_count": 34,
     "metadata": {},
     "output_type": "execute_result"
    }
   ],
   "source": [
    "df.date.isnull().value_counts()"
   ]
  },
  {
   "cell_type": "code",
   "execution_count": 35,
   "metadata": {},
   "outputs": [
    {
     "data": {
      "text/plain": [
       "stars\n",
       "False    3497\n",
       "True        3\n",
       "Name: count, dtype: int64"
      ]
     },
     "execution_count": 35,
     "metadata": {},
     "output_type": "execute_result"
    }
   ],
   "source": [
    "df.stars.isnull().value_counts()#"
   ]
  },
  {
   "cell_type": "code",
   "execution_count": 36,
   "metadata": {},
   "outputs": [],
   "source": [
    "df = df.dropna(subset=['stars', 'country'])"
   ]
  },
  {
   "cell_type": "code",
   "execution_count": 37,
   "metadata": {},
   "outputs": [
    {
     "data": {
      "text/plain": [
       "stars\n",
       "False    3496\n",
       "Name: count, dtype: int64"
      ]
     },
     "execution_count": 37,
     "metadata": {},
     "output_type": "execute_result"
    }
   ],
   "source": [
    "df.stars.isnull().value_counts()"
   ]
  },
  {
   "cell_type": "code",
   "execution_count": 38,
   "metadata": {},
   "outputs": [
    {
     "data": {
      "text/plain": [
       "(3496, 6)"
      ]
     },
     "execution_count": 38,
     "metadata": {},
     "output_type": "execute_result"
    }
   ],
   "source": [
    "df.shape"
   ]
  },
  {
   "cell_type": "code",
   "execution_count": 39,
   "metadata": {},
   "outputs": [
    {
     "data": {
      "text/html": [
       "<div>\n",
       "<style scoped>\n",
       "    .dataframe tbody tr th:only-of-type {\n",
       "        vertical-align: middle;\n",
       "    }\n",
       "\n",
       "    .dataframe tbody tr th {\n",
       "        vertical-align: top;\n",
       "    }\n",
       "\n",
       "    .dataframe thead th {\n",
       "        text-align: right;\n",
       "    }\n",
       "</style>\n",
       "<table border=\"1\" class=\"dataframe\">\n",
       "  <thead>\n",
       "    <tr style=\"text-align: right;\">\n",
       "      <th></th>\n",
       "      <th>reviews</th>\n",
       "      <th>stars</th>\n",
       "      <th>date</th>\n",
       "      <th>country</th>\n",
       "      <th>verified</th>\n",
       "      <th>corpus</th>\n",
       "    </tr>\n",
       "  </thead>\n",
       "  <tbody>\n",
       "    <tr>\n",
       "      <th>0</th>\n",
       "      <td>Not Verified | Flown with BA four times. As an...</td>\n",
       "      <td>5.0</td>\n",
       "      <td>2024-08-25</td>\n",
       "      <td>United Kingdom</td>\n",
       "      <td>False</td>\n",
       "      <td>verified flown ba four time anxious traveller ...</td>\n",
       "    </tr>\n",
       "    <tr>\n",
       "      <th>1</th>\n",
       "      <td>✅ Trip Verified |   You may never see your ref...</td>\n",
       "      <td>10.0</td>\n",
       "      <td>2024-08-22</td>\n",
       "      <td>United States</td>\n",
       "      <td>True</td>\n",
       "      <td>may never see refund cancelled return flight s...</td>\n",
       "    </tr>\n",
       "    <tr>\n",
       "      <th>2</th>\n",
       "      <td>Not Verified | Cargo service: that's how I fel...</td>\n",
       "      <td>1.0</td>\n",
       "      <td>2024-08-21</td>\n",
       "      <td>United States</td>\n",
       "      <td>False</td>\n",
       "      <td>verified cargo service felt upper deck suppose...</td>\n",
       "    </tr>\n",
       "    <tr>\n",
       "      <th>3</th>\n",
       "      <td>✅ Trip Verified | Inefficient and slow airport...</td>\n",
       "      <td>5.0</td>\n",
       "      <td>2024-08-21</td>\n",
       "      <td>United Kingdom</td>\n",
       "      <td>True</td>\n",
       "      <td>inefficient slow airport operation resting lau...</td>\n",
       "    </tr>\n",
       "    <tr>\n",
       "      <th>4</th>\n",
       "      <td>Not Verified |  The customer service is one of...</td>\n",
       "      <td>4.0</td>\n",
       "      <td>2024-08-18</td>\n",
       "      <td>United States</td>\n",
       "      <td>False</td>\n",
       "      <td>verified customer service one worst ever seen ...</td>\n",
       "    </tr>\n",
       "    <tr>\n",
       "      <th>...</th>\n",
       "      <td>...</td>\n",
       "      <td>...</td>\n",
       "      <td>...</td>\n",
       "      <td>...</td>\n",
       "      <td>...</td>\n",
       "      <td>...</td>\n",
       "    </tr>\n",
       "    <tr>\n",
       "      <th>3491</th>\n",
       "      <td>Heathrow to Bergen Business no priority boardi...</td>\n",
       "      <td>4.0</td>\n",
       "      <td>2014-10-22</td>\n",
       "      <td>United Kingdom</td>\n",
       "      <td>False</td>\n",
       "      <td>heathrow bergen business priority boarding bus...</td>\n",
       "    </tr>\n",
       "    <tr>\n",
       "      <th>3492</th>\n",
       "      <td>BA176 JFK to Heathrow 13 October 2014. The out...</td>\n",
       "      <td>8.0</td>\n",
       "      <td>2014-10-22</td>\n",
       "      <td>United Kingdom</td>\n",
       "      <td>False</td>\n",
       "      <td>ba jfk heathrow october outward flight awful r...</td>\n",
       "    </tr>\n",
       "    <tr>\n",
       "      <th>3493</th>\n",
       "      <td>Very impressed with Premium Economy on BA Sydn...</td>\n",
       "      <td>3.0</td>\n",
       "      <td>2014-10-22</td>\n",
       "      <td>Australia</td>\n",
       "      <td>False</td>\n",
       "      <td>impressed premium economy ba sydney heathrow r...</td>\n",
       "    </tr>\n",
       "    <tr>\n",
       "      <th>3494</th>\n",
       "      <td>A319 Barcelona to Heathrow Business no announc...</td>\n",
       "      <td>7.0</td>\n",
       "      <td>2014-10-22</td>\n",
       "      <td>United Kingdom</td>\n",
       "      <td>False</td>\n",
       "      <td>barcelona heathrow business announcement board...</td>\n",
       "    </tr>\n",
       "    <tr>\n",
       "      <th>3495</th>\n",
       "      <td>BA213 Heathrow to Boston 29/09/14 B747. There ...</td>\n",
       "      <td>1.0</td>\n",
       "      <td>2014-10-22</td>\n",
       "      <td>United Kingdom</td>\n",
       "      <td>False</td>\n",
       "      <td>ba heathrow boston b nothing commend flight be...</td>\n",
       "    </tr>\n",
       "  </tbody>\n",
       "</table>\n",
       "<p>3496 rows × 6 columns</p>\n",
       "</div>"
      ],
      "text/plain": [
       "                                                reviews  stars       date  \\\n",
       "0     Not Verified | Flown with BA four times. As an...    5.0 2024-08-25   \n",
       "1     ✅ Trip Verified |   You may never see your ref...   10.0 2024-08-22   \n",
       "2     Not Verified | Cargo service: that's how I fel...    1.0 2024-08-21   \n",
       "3     ✅ Trip Verified | Inefficient and slow airport...    5.0 2024-08-21   \n",
       "4     Not Verified |  The customer service is one of...    4.0 2024-08-18   \n",
       "...                                                 ...    ...        ...   \n",
       "3491  Heathrow to Bergen Business no priority boardi...    4.0 2014-10-22   \n",
       "3492  BA176 JFK to Heathrow 13 October 2014. The out...    8.0 2014-10-22   \n",
       "3493  Very impressed with Premium Economy on BA Sydn...    3.0 2014-10-22   \n",
       "3494  A319 Barcelona to Heathrow Business no announc...    7.0 2014-10-22   \n",
       "3495  BA213 Heathrow to Boston 29/09/14 B747. There ...    1.0 2014-10-22   \n",
       "\n",
       "             country  verified  \\\n",
       "0     United Kingdom     False   \n",
       "1      United States      True   \n",
       "2      United States     False   \n",
       "3     United Kingdom      True   \n",
       "4      United States     False   \n",
       "...              ...       ...   \n",
       "3491  United Kingdom     False   \n",
       "3492  United Kingdom     False   \n",
       "3493       Australia     False   \n",
       "3494  United Kingdom     False   \n",
       "3495  United Kingdom     False   \n",
       "\n",
       "                                                 corpus  \n",
       "0     verified flown ba four time anxious traveller ...  \n",
       "1     may never see refund cancelled return flight s...  \n",
       "2     verified cargo service felt upper deck suppose...  \n",
       "3     inefficient slow airport operation resting lau...  \n",
       "4     verified customer service one worst ever seen ...  \n",
       "...                                                 ...  \n",
       "3491  heathrow bergen business priority boarding bus...  \n",
       "3492  ba jfk heathrow october outward flight awful r...  \n",
       "3493  impressed premium economy ba sydney heathrow r...  \n",
       "3494  barcelona heathrow business announcement board...  \n",
       "3495  ba heathrow boston b nothing commend flight be...  \n",
       "\n",
       "[3496 rows x 6 columns]"
      ]
     },
     "execution_count": 39,
     "metadata": {},
     "output_type": "execute_result"
    }
   ],
   "source": [
    "df.reset_index(drop=True)"
   ]
  },
  {
   "cell_type": "code",
   "execution_count": 40,
   "metadata": {},
   "outputs": [],
   "source": [
    "df.to_csv(\"cleaned_data.csv\")"
   ]
  },
  {
   "cell_type": "code",
   "execution_count": null,
   "metadata": {},
   "outputs": [],
   "source": []
  }
 ],
 "metadata": {
  "kernelspec": {
   "display_name": "base",
   "language": "python",
   "name": "python3"
  },
  "language_info": {
   "codemirror_mode": {
    "name": "ipython",
    "version": 3
   },
   "file_extension": ".py",
   "mimetype": "text/x-python",
   "name": "python",
   "nbconvert_exporter": "python",
   "pygments_lexer": "ipython3",
   "version": "3.11.5"
  }
 },
 "nbformat": 4,
 "nbformat_minor": 2
}
