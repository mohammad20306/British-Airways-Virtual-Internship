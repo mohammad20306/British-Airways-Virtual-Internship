{
 "cells": [
  {
   "cell_type": "code",
   "execution_count": 7,
   "metadata": {},
   "outputs": [],
   "source": [
    "import pandas as pd\n",
    "import numpy as np\n",
    "from bs4 import BeautifulSoup\n",
    "import requests "
   ]
  },
  {
   "cell_type": "code",
   "execution_count": 8,
   "metadata": {},
   "outputs": [],
   "source": [
    "#create an empty list to collect all reviews\n",
    "reviews  = []\n",
    "\n",
    "#create an empty list to collect rating stars\n",
    "stars = []\n",
    "\n",
    "#create an empty list to collect date\n",
    "date = []\n",
    "\n",
    "#create an empty list to collect country the reviewer is from\n",
    "country = []"
   ]
  },
  {
   "cell_type": "code",
   "execution_count": 11,
   "metadata": {},
   "outputs": [
    {
     "name": "stdout",
     "output_type": "stream",
     "text": [
      "Error on page 33\n",
      "Error on page 35\n",
      "Error on page 35\n"
     ]
    }
   ],
   "source": [
    "for i in range(1, 36):\n",
    "    page = requests.get(f\"https://www.airlinequality.com/airline-reviews/british-airways/page/{i}/?sortby=post_date%3ADesc&pagesize=100\")\n",
    "    \n",
    "    soup = BeautifulSoup(page.content, \"html.parser\")  # Use \"html.parser\" or \"lxml\" or \"html5lib\"\n",
    "    \n",
    "    for item in soup.find_all(\"div\", class_=\"text_content\"):\n",
    "        reviews.append(item.text)\n",
    "    \n",
    "    for item in soup.find_all(\"div\", class_=\"rating-10\"):\n",
    "        try:\n",
    "            stars.append(item.span.text)\n",
    "        except:\n",
    "            print(f\"Error on page {i}\")\n",
    "            stars.append(\"None\")\n",
    "            \n",
    "    #date\n",
    "    for item in soup.find_all(\"time\"):\n",
    "        date.append(item.text)\n",
    "        \n",
    "    #country\n",
    "    for item in soup.find_all(\"h3\"):\n",
    "        country.append(item.span.next_sibling.text.strip(\" ()\"))"
   ]
  },
  {
   "cell_type": "code",
   "execution_count": 15,
   "metadata": {},
   "outputs": [
    {
     "name": "stdout",
     "output_type": "stream",
     "text": [
      "3500\n",
      "3500\n",
      "3535\n",
      "3500\n"
     ]
    }
   ],
   "source": [
    "print(len(reviews))\n",
    "print(len(country))\n",
    "print(len(stars))\n",
    "print(len(date))"
   ]
  },
  {
   "cell_type": "code",
   "execution_count": 16,
   "metadata": {},
   "outputs": [],
   "source": [
    "min_length = min(len(reviews), len(stars), len(date), len(country))\n",
    "\n",
    "# Trim all lists to the minimum length\n",
    "reviews = reviews[:min_length]\n",
    "stars = stars[:min_length]\n",
    "date = date[:min_length]\n",
    "country = country[:min_length]\n"
   ]
  },
  {
   "cell_type": "code",
   "execution_count": 17,
   "metadata": {},
   "outputs": [],
   "source": [
    "df = pd.DataFrame({\"reviews\":reviews,\"stars\": stars, \"date\":date, \"country\": country})"
   ]
  },
  {
   "cell_type": "code",
   "execution_count": 18,
   "metadata": {},
   "outputs": [
    {
     "data": {
      "text/plain": [
       "(3500, 4)"
      ]
     },
     "execution_count": 18,
     "metadata": {},
     "output_type": "execute_result"
    }
   ],
   "source": [
    "df.shape"
   ]
  },
  {
   "cell_type": "code",
   "execution_count": 19,
   "metadata": {},
   "outputs": [],
   "source": [
    "df.to_csv(\"BA_reviews.csv\")"
   ]
  },
  {
   "cell_type": "code",
   "execution_count": null,
   "metadata": {},
   "outputs": [],
   "source": []
  }
 ],
 "metadata": {
  "kernelspec": {
   "display_name": "base",
   "language": "python",
   "name": "python3"
  },
  "language_info": {
   "codemirror_mode": {
    "name": "ipython",
    "version": 3
   },
   "file_extension": ".py",
   "mimetype": "text/x-python",
   "name": "python",
   "nbconvert_exporter": "python",
   "pygments_lexer": "ipython3",
   "version": "3.11.5"
  }
 },
 "nbformat": 4,
 "nbformat_minor": 2
}
